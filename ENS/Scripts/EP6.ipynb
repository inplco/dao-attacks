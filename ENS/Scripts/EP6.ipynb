{
 "cells": [
  {
   "cell_type": "markdown",
   "metadata": {},
   "source": [
    "### EP6 \n"
   ]
  },
  {
   "cell_type": "markdown",
   "metadata": {},
   "source": [
    "##### EP6.1\n",
    "\n",
    "**FAQ:** What is this? <br><br>\n",
    "<code>#</code>Case study of [EP6.1 proposal](https://snapshot.org/#/ens.eth/proposal/0xa9a2dc5a52ea54b478c4c5fea88540622dff7ad5000f8d146dff482c6e6b6055)"
   ]
  },
  {
   "cell_type": "code",
   "execution_count": 9,
   "metadata": {},
   "outputs": [],
   "source": [
    "# Cell 1: environment\n",
    "\n",
    "import matplotlib.font_manager as fm\n",
    "import numpy as np\n",
    "import random as rand\n",
    "from scipy.integrate import odeint\n",
    "import matplotlib.pyplot as plt\n",
    "from matplotlib.pyplot import gca\n",
    "import os \n",
    "import math as mt\n",
    "from bs4 import BeautifulSoup\n",
    "from matplotlib.ticker import FormatStrFormatter\n",
    "import matplotlib.ticker as ticker\n",
    "import pandas as pd\n",
    "import requests\n",
    "import scipy.fftpack\n",
    "from pprint import pprint\n",
    "from operator import itemgetter\n",
    "%matplotlib inline\n",
    "\n",
    "cwd = os.getcwd()\n",
    "pwd = os.path.abspath(os.path.join(cwd, os.pardir))\n",
    "fontloc = pwd + '/../SF-Pro/SF-Pro-Regular.ttf'\n",
    "font = fm.FontProperties(fname = fontloc,size = 8); prop = font\n",
    "proplr = fm.FontProperties(fname = fontloc,size = 12)\n",
    "prop10 = fm.FontProperties(fname = fontloc,size = 10)\n",
    "\n",
    "fontlocit = pwd + '/../SF-Pro/SF-Pro-RegularItalic.ttf'\n",
    "fontit = fm.FontProperties(fname = fontlocit,size = 8)\n",
    "\n",
    "#ticks font\n",
    "def ticks(ax, size):\n",
    "    font = fm.FontProperties(fname = fontloc,size = size)\n",
    "    for label in ax.get_xticklabels():\n",
    "        label.set_fontproperties(font)\n",
    "    for label in ax.get_yticklabels():\n",
    "        label.set_fontproperties(font)\n",
    "        \n",
    "def ticks3(ax, x, y, z):\n",
    "    font = fm.FontProperties(fname = fontloc,size = x)\n",
    "    for label in ax.get_xticklabels():\n",
    "        label.set_fontproperties(font)\n",
    "    font = fm.FontProperties(fname = fontloc,size = y)\n",
    "    for label in ax.get_yticklabels():\n",
    "        label.set_fontproperties(font)\n",
    "    font = fm.FontProperties(fname = fontloc,size = z)\n",
    "    for label in ax.get_zticklabels():\n",
    "        label.set_fontproperties(font)\n",
    "        \n",
    "def xticks(ax, size):\n",
    "    font = fm.FontProperties(fname = fontloc,size = size)\n",
    "    for label in ax.get_xticklabels():\n",
    "        label.set_fontproperties(font)\n",
    "        \n",
    "def yticks(ax, size):\n",
    "    font = fm.FontProperties(fname = fontloc,size = size)\n",
    "    for label in ax.get_yticklabels():\n",
    "        label.set_fontproperties(font)\n",
    "\n",
    "@ticker.FuncFormatter\n",
    "def major_formatter(x, pos):\n",
    "    label = str(\"{0:.1f}\".format(x)) if x < 0 else str(\"{0:.2f}\".format(x))\n",
    "    return label\n",
    "\n",
    "import matplotlib.colors as colors\n",
    "\n",
    "def truncate_colormap(cmap, minval=0.0, maxval=1.0, n=100):\n",
    "    new_cmap = colors.LinearSegmentedColormap.from_list(\n",
    "        'trunc({n},{a:.2f},{b:.2f})'.format(n=cmap.name, a=minval, b=maxval),\n",
    "        cmap(np.linspace(minval, maxval, n)))\n",
    "    return new_cmap\n"
   ]
  },
  {
   "cell_type": "markdown",
   "metadata": {},
   "source": [
    "Pull Snapshot data with GraphQL"
   ]
  },
  {
   "cell_type": "code",
   "execution_count": null,
   "metadata": {},
   "outputs": [],
   "source": [
    "from gql import gql, Client\n",
    "from gql.transport.aiohttp import AIOHTTPTransport\n",
    "\n",
    "# Select your transport with a defined url endpoint\n",
    "transport = AIOHTTPTransport(url=\"https://countries.trevorblades.com/\")\n",
    "\n",
    "# Create a GraphQL client using the defined transport\n",
    "client = Client(transport=transport, fetch_schema_from_transport=True)\n",
    "\n",
    "# Provide a GraphQL query\n",
    "query = gql(\n",
    "    \"\"\"\n",
    "    query getContinents {\n",
    "      continents {\n",
    "        code\n",
    "        name\n",
    "      }\n",
    "    }\n",
    "\"\"\"\n",
    ")\n",
    "\n",
    "# Execute the query on the transport\n",
    "result = await client.execute_async(query)\n",
    "print(result)"
   ]
  },
  {
   "cell_type": "markdown",
   "metadata": {},
   "source": [
    "#### Insert\n",
    "\n"
   ]
  },
  {
   "cell_type": "code",
   "execution_count": null,
   "metadata": {},
   "outputs": [],
   "source": [
    "from gql import gql, Client\n",
    "from gql.transport.aiohttp import AIOHTTPTransport\n",
    "\n",
    "# Select your transport with a defined url endpoint\n",
    "transport = AIOHTTPTransport(url=\"https://hub.snapshot.org/graphql/\" + \"0xa9a2dc5a52ea54b478c4c5fea88540622dff7ad5000f8d146dff482c6e6b6055\")\n",
    "\n",
    "# Create a GraphQL client using the defined transport\n",
    "client = Client(transport=transport, fetch_schema_from_transport=True)\n",
    "\n",
    "# Provide a GraphQL query\n",
    "query = gql(\n",
    "    \"\"\"\n",
    "    query getProposal {\n",
    "      proposal {\n",
    "        \n",
    "      }\n",
    "    }\n",
    "\"\"\"\n",
    ")\n",
    "\n",
    "# Execute the query on the transport\n",
    "result = await client.execute_async(query)\n",
    "print(result)"
   ]
  }
 ],
 "metadata": {
  "kernelspec": {
   "display_name": "Python 3",
   "language": "python",
   "name": "python3"
  },
  "language_info": {
   "codemirror_mode": {
    "name": "ipython",
    "version": 3
   },
   "file_extension": ".py",
   "mimetype": "text/x-python",
   "name": "python",
   "nbconvert_exporter": "python",
   "pygments_lexer": "ipython3",
   "version": "3.8.12"
  }
 },
 "nbformat": 4,
 "nbformat_minor": 4
}
