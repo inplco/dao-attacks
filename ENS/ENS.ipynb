{
 "cells": [
  {
   "cell_type": "markdown",
   "metadata": {},
   "source": [
    "#### Threat analysis possed by top 50 delegates of ENS"
   ]
  },
  {
   "cell_type": "code",
   "execution_count": 4,
   "metadata": {},
   "outputs": [],
   "source": [
    "# Cell 1: environment\n",
    "\n",
    "import matplotlib.font_manager as fm\n",
    "import numpy as np\n",
    "import random as rand\n",
    "from scipy.integrate import odeint\n",
    "import matplotlib.pyplot as plt\n",
    "from matplotlib.pyplot import gca\n",
    "import os \n",
    "import math as mt\n",
    "from bs4 import BeautifulSoup\n",
    "from matplotlib.ticker import FormatStrFormatter\n",
    "import matplotlib.ticker as ticker\n",
    "import pandas as pd\n",
    "import requests\n",
    "import scipy.fftpack\n",
    "from pprint import pprint\n",
    "%matplotlib inline\n",
    "\n",
    "cwd = os.getcwd()\n",
    "pwd = os.path.abspath(os.path.join(cwd, os.pardir))\n",
    "fontloc = pwd + '/SF-Mono/SFMono-Regular.otf'\n",
    "font = fm.FontProperties(fname = fontloc,size = 8); prop = font\n",
    "proplr = fm.FontProperties(fname = fontloc,size = 12)\n",
    "prop10 = fm.FontProperties(fname = fontloc,size = 10)\n",
    "\n",
    "fontlocit = pwd + '/SF-Mono/SFMono-RegularItalic.otf'\n",
    "fontit = fm.FontProperties(fname = fontlocit,size = 8)\n",
    "\n",
    "#ticks font\n",
    "def ticks(ax, size):\n",
    "    font = fm.FontProperties(fname = fontloc,size = size)\n",
    "    for label in ax.get_xticklabels():\n",
    "        label.set_fontproperties(font)\n",
    "    for label in ax.get_yticklabels():\n",
    "        label.set_fontproperties(font)\n",
    "        \n",
    "def ticks3(ax, x, y, z):\n",
    "    font = fm.FontProperties(fname = fontloc,size = x)\n",
    "    for label in ax.get_xticklabels():\n",
    "        label.set_fontproperties(font)\n",
    "    font = fm.FontProperties(fname = fontloc,size = y)\n",
    "    for label in ax.get_yticklabels():\n",
    "        label.set_fontproperties(font)\n",
    "    font = fm.FontProperties(fname = fontloc,size = z)\n",
    "    for label in ax.get_zticklabels():\n",
    "        label.set_fontproperties(font)\n",
    "        \n",
    "def xticks(ax, size):\n",
    "    font = fm.FontProperties(fname = fontloc,size = size)\n",
    "    for label in ax.get_xticklabels():\n",
    "        label.set_fontproperties(font)\n",
    "        \n",
    "def yticks(ax, size):\n",
    "    font = fm.FontProperties(fname = fontloc,size = size)\n",
    "    for label in ax.get_yticklabels():\n",
    "        label.set_fontproperties(font)\n",
    "\n",
    "@ticker.FuncFormatter\n",
    "def major_formatter(x, pos):\n",
    "    label = str(\"{0:.1f}\".format(x)) if x < 0 else str(\"{0:.2f}\".format(x))\n",
    "    return label\n",
    "\n",
    "import matplotlib.colors as colors\n",
    "\n",
    "def truncate_colormap(cmap, minval=0.0, maxval=1.0, n=100):\n",
    "    new_cmap = colors.LinearSegmentedColormap.from_list(\n",
    "        'trunc({n},{a:.2f},{b:.2f})'.format(n=cmap.name, a=minval, b=maxval),\n",
    "        cmap(np.linspace(minval, maxval, n)))\n",
    "    return new_cmap\n"
   ]
  },
  {
   "cell_type": "markdown",
   "metadata": {},
   "source": [
    "File <code>ENS.log</code> contains voting data of top 50 ENS delegates scrapped from [Sybil.org](https://sybil.org)"
   ]
  },
  {
   "cell_type": "code",
   "execution_count": 6,
   "metadata": {},
   "outputs": [],
   "source": [
    "# read in data\n",
    "file_in = cwd + '/ENS.log'\n",
    "f = open(file_in, 'r')\n",
    "lines = f.readlines()[1:]\n",
    "f.close()\n",
    "\n",
    "rank = []\n",
    "perc = []\n",
    "vote = []\n",
    "name = []\n",
    "\n",
    "for line in lines:\n",
    "    if not line.startswith(\"#\"):\n",
    "        column = line.split()\n",
    "        rank.append(int(column[0]))\n",
    "        name.append(str(column[1]))\n",
    "        perc.append(float(column[2]))\n",
    "        vote.append(int(column[3]))\n",
    "            \n",
    "lines1 = []"
   ]
  },
  {
   "cell_type": "markdown",
   "metadata": {},
   "source": []
  },
  {
   "cell_type": "code",
   "execution_count": 49,
   "metadata": {},
   "outputs": [
    {
     "name": "stdout",
     "output_type": "stream",
     "text": [
      "totalVotes: 6847327\n",
      "possVec: 50\n",
      "possVec: 2450\n",
      "possVec: 117600\n",
      "possVec: 5527200\n",
      "possVec: 254251200\n",
      "possVec: 11441304000\n",
      "possVec: 503417376000\n",
      "possVec: 21646947168000\n",
      "possVec: 909171781056000\n",
      "possVec: 37276043023296000\n",
      "possVec: 1491041720931840000\n",
      "possVec: 58150627116341755904\n",
      "possVec: 2209723830420986920960\n",
      "possVec: 81759781725576512929792\n",
      "possVec: 2943352142120754599690240\n",
      "possVec: 103017324974226403472965632\n",
      "possVec: 3502589049123697992958738432\n",
      "possVec: 115585438621082022772522090496\n",
      "possVec: 3698734035874624728720706895872\n",
      "possVec: 114660755112113382915890562990080\n",
      "possVec: 3439822653363401235275137756954624\n",
      "possVec: 99754856947538631787753728827719680\n",
      "possVec: 2793135994531081763844080702014357504\n",
      "possVec: 75414671852339211755860851465327214592\n",
      "possVec: 1960781468160819373426120617748441595904\n",
      "possVec: 49019536704020484940115925251025627250688\n",
      "possVec: 1176468880896491715934034661360882235211776\n",
      "possVec: 27058784260619309156997787389955222685089792\n",
      "possVec: 595293253733624751936349751163803903107006464\n",
      "possVec: 12501158328406119236066207174589518810439483392\n",
      "possVec: 250023166568122415144938548969296012129666596864\n",
      "possVec: 4750440164794325847189013223113283382569162768384\n",
      "possVec: 85507922966297857460956950213797658090500436000768\n",
      "possVec: 1453634690427063742989767626749044300514389947056128\n",
      "possVec: 23258155046833019887836282027984708808230239152898048\n",
      "possVec: 348872325702495290342176255710275394700611225611403264\n",
      "possVec: 4884212559834933979719875849709239659964905300617592832\n",
      "possVec: 63494763277854136291840515311204700165550049999737323520\n",
      "possVec: 761937159334249679058229149614579725298550351263178948608\n",
      "possVec: 8381308752676746034079090986959143745164556351231657771008\n",
      "possVec: 83813087526767468703570359318575115527539915755452142452736\n",
      "possVec: 754317787740907229482505833132487610515718378123250035064832\n",
      "possVec: 6034542301927257835860046665059900884125747024986000280518656\n",
      "possVec: 42241796113490802710148787596479484601451275000659297389510656\n",
      "possVec: 253450776680944839096855808874235004541283161195877966461009920\n",
      "possVec: 1267253883404724104140426711189742634976113761211701103809265664\n",
      "possVec: 5069015533618896416561706844758970539904455044846804415237062656\n",
      "possVec: 15207046600856687788183483203373993416028532418257393589778644992\n",
      "possVec: 30414093201713375576366966406747986832057064836514787179557289984\n"
     ]
    },
    {
     "ename": "NameError",
     "evalue": "name 'nsmsmk' is not defined",
     "output_type": "error",
     "traceback": [
      "\u001b[0;31m---------------------------------------------------------------------------\u001b[0m",
      "\u001b[0;31mNameError\u001b[0m                                 Traceback (most recent call last)",
      "\u001b[0;32m/var/folders/_w/t15_t4yj62lf0jzxr77nxwv00000gn/T/ipykernel_66058/4263923332.py\u001b[0m in \u001b[0;36m<module>\u001b[0;34m\u001b[0m\n\u001b[1;32m     12\u001b[0m     \u001b[0mprint\u001b[0m\u001b[0;34m(\u001b[0m\u001b[0;34m'possVec: '\u001b[0m \u001b[0;34m+\u001b[0m \u001b[0mstr\u001b[0m\u001b[0;34m(\u001b[0m\u001b[0mint\u001b[0m\u001b[0;34m(\u001b[0m\u001b[0mnp\u001b[0m\u001b[0;34m.\u001b[0m\u001b[0mmath\u001b[0m\u001b[0;34m.\u001b[0m\u001b[0mfactorial\u001b[0m\u001b[0;34m(\u001b[0m\u001b[0mTotal\u001b[0m\u001b[0;34m)\u001b[0m\u001b[0;34m/\u001b[0m\u001b[0mnp\u001b[0m\u001b[0;34m.\u001b[0m\u001b[0mmath\u001b[0m\u001b[0;34m.\u001b[0m\u001b[0mfactorial\u001b[0m\u001b[0;34m(\u001b[0m\u001b[0mTotal\u001b[0m \u001b[0;34m-\u001b[0m \u001b[0mperps\u001b[0m\u001b[0;34m)\u001b[0m\u001b[0;34m)\u001b[0m\u001b[0;34m)\u001b[0m\u001b[0;34m)\u001b[0m\u001b[0;34m\u001b[0m\u001b[0;34m\u001b[0m\u001b[0m\n\u001b[1;32m     13\u001b[0m     \u001b[0mpossVec\u001b[0m\u001b[0;34m.\u001b[0m\u001b[0mappend\u001b[0m\u001b[0;34m(\u001b[0m\u001b[0mint\u001b[0m\u001b[0;34m(\u001b[0m\u001b[0mnp\u001b[0m\u001b[0;34m.\u001b[0m\u001b[0mmath\u001b[0m\u001b[0;34m.\u001b[0m\u001b[0mfactorial\u001b[0m\u001b[0;34m(\u001b[0m\u001b[0mTotal\u001b[0m\u001b[0;34m)\u001b[0m\u001b[0;34m/\u001b[0m\u001b[0mnp\u001b[0m\u001b[0;34m.\u001b[0m\u001b[0mmath\u001b[0m\u001b[0;34m.\u001b[0m\u001b[0mfactorial\u001b[0m\u001b[0;34m(\u001b[0m\u001b[0mTotal\u001b[0m \u001b[0;34m-\u001b[0m \u001b[0mperps\u001b[0m\u001b[0;34m)\u001b[0m\u001b[0;34m)\u001b[0m\u001b[0;34m)\u001b[0m\u001b[0;34m\u001b[0m\u001b[0;34m\u001b[0m\u001b[0m\n\u001b[0;32m---> 14\u001b[0;31m \u001b[0mnsmsmk\u001b[0m\u001b[0;34m\u001b[0m\u001b[0;34m\u001b[0m\u001b[0m\n\u001b[0m\u001b[1;32m     15\u001b[0m \u001b[0;32mfor\u001b[0m \u001b[0mperps\u001b[0m \u001b[0;32min\u001b[0m \u001b[0mrange\u001b[0m\u001b[0;34m(\u001b[0m\u001b[0;36m3\u001b[0m\u001b[0;34m,\u001b[0m\u001b[0mN\u001b[0m \u001b[0;34m+\u001b[0m \u001b[0;36m1\u001b[0m\u001b[0;34m)\u001b[0m\u001b[0;34m:\u001b[0m\u001b[0;34m\u001b[0m\u001b[0;34m\u001b[0m\u001b[0m\n\u001b[1;32m     16\u001b[0m     \u001b[0mprint\u001b[0m\u001b[0;34m(\u001b[0m\u001b[0;34m'possVec: '\u001b[0m \u001b[0;34m+\u001b[0m \u001b[0mstr\u001b[0m\u001b[0;34m(\u001b[0m\u001b[0mint\u001b[0m\u001b[0;34m(\u001b[0m\u001b[0mnp\u001b[0m\u001b[0;34m.\u001b[0m\u001b[0mmath\u001b[0m\u001b[0;34m.\u001b[0m\u001b[0mfactorial\u001b[0m\u001b[0;34m(\u001b[0m\u001b[0mTotal\u001b[0m\u001b[0;34m)\u001b[0m\u001b[0;34m/\u001b[0m\u001b[0mnp\u001b[0m\u001b[0;34m.\u001b[0m\u001b[0mmath\u001b[0m\u001b[0;34m.\u001b[0m\u001b[0mfactorial\u001b[0m\u001b[0;34m(\u001b[0m\u001b[0mTotal\u001b[0m \u001b[0;34m-\u001b[0m \u001b[0mperps\u001b[0m\u001b[0;34m)\u001b[0m\u001b[0;34m)\u001b[0m\u001b[0;34m)\u001b[0m\u001b[0;34m)\u001b[0m\u001b[0;34m\u001b[0m\u001b[0;34m\u001b[0m\u001b[0m\n",
      "\u001b[0;31mNameError\u001b[0m: name 'nsmsmk' is not defined"
     ]
    }
   ],
   "source": [
    "%config InlineBackend.figure_format = 'svg'\n",
    "import itertools\n",
    "\n",
    "totalVotes = int(np.sum(vote)/(np.sum(perc)*0.01))\n",
    "print('totalVotes: ' + str(totalVotes))\n",
    "threshold = 1000000\n",
    "Total = len(rank)\n",
    "\n",
    "#N-party attack\n",
    "N = 5; possVec = []\n",
    "for perps in range(1, Total):\n",
    "    print('possVec: ' + str(int(np.math.factorial(Total)/np.math.factorial(Total - perps))))\n",
    "    possVec.append(int(np.math.factorial(Total)/np.math.factorial(Total - perps)))\n",
    "\n",
    "for perps in range(3,N + 1):\n",
    "    print('possVec: ' + str(int(np.math.factorial(Total)/np.math.factorial(Total - perps))))\n",
    "    perms = list(itertools.permutations(rank,perps))\n",
    "    threat = []; attackers = []\n",
    "    for val in perms:\n",
    "      attack = 0; names = ''; ranks = []\n",
    "      for i in val:\n",
    "          attack = attack + vote[int(i - 1)]\n",
    "          #names = names + name[int(i - 1)] + ';'\n",
    "          ranks.append(rank[int(i - 1)])\n",
    "      if attack > threshold:\n",
    "           #attackers.append(names)\n",
    "           threat.append(ranks)\n",
    "      attack = 0\n",
    "\n",
    "    print(perps, len(threat), len(perms))\n",
    "\n",
    "\n"
   ]
  },
  {
   "cell_type": "code",
   "execution_count": 47,
   "metadata": {},
   "outputs": [
    {
     "data": {
      "text/plain": [
       "254251200.0"
      ]
     },
     "execution_count": 47,
     "metadata": {},
     "output_type": "execute_result"
    }
   ],
   "source": [
    "np.math.factorial(50)/np.math.factorial(45)"
   ]
  }
 ],
 "metadata": {
  "kernelspec": {
   "display_name": "Python 3",
   "language": "python",
   "name": "python3"
  },
  "language_info": {
   "codemirror_mode": {
    "name": "ipython",
    "version": 3
   },
   "file_extension": ".py",
   "mimetype": "text/x-python",
   "name": "python",
   "nbconvert_exporter": "python",
   "pygments_lexer": "ipython3",
   "version": "3.8.12"
  }
 },
 "nbformat": 4,
 "nbformat_minor": 4
}
